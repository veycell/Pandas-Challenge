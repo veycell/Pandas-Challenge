{
 "cells": [
  {
   "cell_type": "markdown",
   "metadata": {},
   "source": [
    "### Note\n",
    "* Instructions have been included for each segment. You do not have to follow them exactly, but they are included to help you think through the steps."
   ]
  },
  {
   "cell_type": "code",
   "execution_count": 2,
   "metadata": {},
   "outputs": [],
   "source": [
    "# Dependencies and Setup\n",
    "import pandas as pd\n",
    "\n",
    "# File to Load (Remember to Change These)\n",
    "file_to_load = \"Resources/purchase_data.csv\"\n",
    "\n",
    "# Read Purchasing File and store into Pandas data frame\n",
    "purchase_data = pd.read_csv(file_to_load)"
   ]
  },
  {
   "cell_type": "markdown",
   "metadata": {},
   "source": [
    "## Player Count"
   ]
  },
  {
   "cell_type": "markdown",
   "metadata": {},
   "source": [
    "* Display the total number of players\n"
   ]
  },
  {
   "cell_type": "code",
   "execution_count": 3,
   "metadata": {},
   "outputs": [
    {
     "data": {
      "text/html": [
       "<div>\n",
       "<style scoped>\n",
       "    .dataframe tbody tr th:only-of-type {\n",
       "        vertical-align: middle;\n",
       "    }\n",
       "\n",
       "    .dataframe tbody tr th {\n",
       "        vertical-align: top;\n",
       "    }\n",
       "\n",
       "    .dataframe thead th {\n",
       "        text-align: right;\n",
       "    }\n",
       "</style>\n",
       "<table border=\"1\" class=\"dataframe\">\n",
       "  <thead>\n",
       "    <tr style=\"text-align: right;\">\n",
       "      <th></th>\n",
       "      <th>Player Count</th>\n",
       "    </tr>\n",
       "  </thead>\n",
       "  <tbody>\n",
       "    <tr>\n",
       "      <th>0</th>\n",
       "      <td>576</td>\n",
       "    </tr>\n",
       "  </tbody>\n",
       "</table>\n",
       "</div>"
      ],
      "text/plain": [
       "   Player Count\n",
       "0           576"
      ]
     },
     "execution_count": 3,
     "metadata": {},
     "output_type": "execute_result"
    }
   ],
   "source": [
    "PlayerCount = len(purchase_data[\"SN\"].unique())\n",
    "playercount_pd = pd.DataFrame({\"Player Count\": [PlayerCount]})\n",
    "playercount_pd"
   ]
  },
  {
   "cell_type": "markdown",
   "metadata": {},
   "source": [
    "## Purchasing Analysis (Total)"
   ]
  },
  {
   "cell_type": "markdown",
   "metadata": {},
   "source": [
    "* Run basic calculations to obtain number of unique items, average price, etc.\n",
    "\n",
    "\n",
    "* Create a summary data frame to hold the results\n",
    "\n",
    "\n",
    "* Optional: give the displayed data cleaner formatting\n",
    "\n",
    "\n",
    "* Display the summary data frame\n"
   ]
  },
  {
   "cell_type": "code",
   "execution_count": 4,
   "metadata": {
    "scrolled": true
   },
   "outputs": [
    {
     "data": {
      "text/html": [
       "<div>\n",
       "<style scoped>\n",
       "    .dataframe tbody tr th:only-of-type {\n",
       "        vertical-align: middle;\n",
       "    }\n",
       "\n",
       "    .dataframe tbody tr th {\n",
       "        vertical-align: top;\n",
       "    }\n",
       "\n",
       "    .dataframe thead th {\n",
       "        text-align: right;\n",
       "    }\n",
       "</style>\n",
       "<table border=\"1\" class=\"dataframe\">\n",
       "  <thead>\n",
       "    <tr style=\"text-align: right;\">\n",
       "      <th></th>\n",
       "      <th>UniqueItems</th>\n",
       "      <th>Average Price</th>\n",
       "      <th>NumberPurchase</th>\n",
       "      <th>Total Revenue</th>\n",
       "    </tr>\n",
       "  </thead>\n",
       "  <tbody>\n",
       "    <tr>\n",
       "      <th>0</th>\n",
       "      <td>179</td>\n",
       "      <td>$3.05</td>\n",
       "      <td>780</td>\n",
       "      <td>$2379.77</td>\n",
       "    </tr>\n",
       "  </tbody>\n",
       "</table>\n",
       "</div>"
      ],
      "text/plain": [
       "   UniqueItems Average Price  NumberPurchase Total Revenue\n",
       "0          179         $3.05             780      $2379.77"
      ]
     },
     "execution_count": 4,
     "metadata": {},
     "output_type": "execute_result"
    }
   ],
   "source": [
    "UniqueItems=len(purchase_data[\"Item Name\"].unique())\n",
    "AveragePrice=purchase_data[\"Price\"].mean()\n",
    "NumberPurchase=len(purchase_data[\"Item Name\"])\n",
    "RevenuePurchase=purchase_data[\"Price\"].sum()\n",
    "\n",
    "Summary_pd=pd.DataFrame({\"UniqueItems\":[UniqueItems],\"Average Price\":[AveragePrice],\"NumberPurchase\":[NumberPurchase],\n",
    "                         \"Total Revenue\":[RevenuePurchase]})\n",
    "Summary_pd[\"Average Price\"]=Summary_pd[\"Average Price\"].map(\"${:.2f}\".format)\n",
    "Summary_pd[\"Total Revenue\"]=Summary_pd[\"Total Revenue\"].map(\"${:.2f}\".format)\n",
    "Summary_pd"
   ]
  },
  {
   "cell_type": "markdown",
   "metadata": {},
   "source": [
    "## Gender Demographics"
   ]
  },
  {
   "cell_type": "markdown",
   "metadata": {},
   "source": [
    "* Percentage and Count of Male Players\n",
    "\n",
    "\n",
    "* Percentage and Count of Female Players\n",
    "\n",
    "\n",
    "* Percentage and Count of Other / Non-Disclosed\n",
    "\n",
    "\n"
   ]
  },
  {
   "cell_type": "code",
   "execution_count": 5,
   "metadata": {},
   "outputs": [
    {
     "data": {
      "text/html": [
       "<div>\n",
       "<style scoped>\n",
       "    .dataframe tbody tr th:only-of-type {\n",
       "        vertical-align: middle;\n",
       "    }\n",
       "\n",
       "    .dataframe tbody tr th {\n",
       "        vertical-align: top;\n",
       "    }\n",
       "\n",
       "    .dataframe thead th {\n",
       "        text-align: right;\n",
       "    }\n",
       "</style>\n",
       "<table border=\"1\" class=\"dataframe\">\n",
       "  <thead>\n",
       "    <tr style=\"text-align: right;\">\n",
       "      <th></th>\n",
       "      <th></th>\n",
       "      <th>Percentage of Players</th>\n",
       "      <th>Total Count</th>\n",
       "    </tr>\n",
       "  </thead>\n",
       "  <tbody>\n",
       "    <tr>\n",
       "      <th>0</th>\n",
       "      <td>Male</td>\n",
       "      <td>83.59%</td>\n",
       "      <td>652</td>\n",
       "    </tr>\n",
       "    <tr>\n",
       "      <th>1</th>\n",
       "      <td>Female</td>\n",
       "      <td>14.49%</td>\n",
       "      <td>113</td>\n",
       "    </tr>\n",
       "    <tr>\n",
       "      <th>2</th>\n",
       "      <td>Other/Non-Disclosed</td>\n",
       "      <td>1.92%</td>\n",
       "      <td>15</td>\n",
       "    </tr>\n",
       "  </tbody>\n",
       "</table>\n",
       "</div>"
      ],
      "text/plain": [
       "                       Percentage of Players  Total Count\n",
       "0                 Male                83.59%          652\n",
       "1               Female                14.49%          113\n",
       "2  Other/Non-Disclosed                 1.92%           15"
      ]
     },
     "execution_count": 5,
     "metadata": {},
     "output_type": "execute_result"
    }
   ],
   "source": [
    "CountMale=purchase_data[\"Gender\"].value_counts()['Male']\n",
    "\n",
    "CountFemale=purchase_data[\"Gender\"].value_counts()['Female']\n",
    "\n",
    "CountOther=purchase_data[\"Gender\"].value_counts()['Other / Non-Disclosed']\n",
    "\n",
    "TotalGender=purchase_data[\"Gender\"].count()\n",
    "\n",
    "PercentMale=(CountMale/TotalGender)*100\n",
    "PercentFemale=(CountFemale/TotalGender)*100\n",
    "PercentOther=(CountOther/TotalGender)*100\n",
    "\n",
    "gender_pd=pd.DataFrame({\"\": ['Male', 'Female', 'Other/Non-Disclosed'],\n",
    "                            \"Percentage of Players\": [PercentMale, PercentFemale, PercentOther],\n",
    "                            \"Total Count\": [CountMale, CountFemale, CountOther]})\n",
    "\n",
    "gender_pd[\"Percentage of Players\"]=gender_pd[\"Percentage of Players\"].map(\"{:.2f}%\".format)\n",
    "gender_pd"
   ]
  },
  {
   "cell_type": "markdown",
   "metadata": {},
   "source": [
    "\n",
    "## Purchasing Analysis (Gender)"
   ]
  },
  {
   "cell_type": "markdown",
   "metadata": {},
   "source": [
    "* Run basic calculations to obtain purchase count, avg. purchase price, avg. purchase total per person etc. by gender\n",
    "\n",
    "\n",
    "\n",
    "\n",
    "* Create a summary data frame to hold the results\n",
    "\n",
    "\n",
    "* Optional: give the displayed data cleaner formatting\n",
    "\n",
    "\n",
    "* Display the summary data frame"
   ]
  },
  {
   "cell_type": "code",
   "execution_count": 8,
   "metadata": {},
   "outputs": [
    {
     "data": {
      "text/html": [
       "<style  type=\"text/css\" >\n",
       "</style><table id=\"T_0e3fe446_72dc_11ea_baaf_083e8e9bc8d3\" ><thead>    <tr>        <th class=\"blank level0\" ></th>        <th class=\"col_heading level0 col0\" >Purchase Count</th>        <th class=\"col_heading level0 col1\" >Average Purchase Price</th>        <th class=\"col_heading level0 col2\" >Average Purchase Value</th>        <th class=\"col_heading level0 col3\" >Avg Purchase Total per Person</th>    </tr>    <tr>        <th class=\"index_name level0\" >Gender</th>        <th class=\"blank\" ></th>        <th class=\"blank\" ></th>        <th class=\"blank\" ></th>        <th class=\"blank\" ></th>    </tr></thead><tbody>\n",
       "                <tr>\n",
       "                        <th id=\"T_0e3fe446_72dc_11ea_baaf_083e8e9bc8d3level0_row0\" class=\"row_heading level0 row0\" >Female</th>\n",
       "                        <td id=\"T_0e3fe446_72dc_11ea_baaf_083e8e9bc8d3row0_col0\" class=\"data row0 col0\" >113</td>\n",
       "                        <td id=\"T_0e3fe446_72dc_11ea_baaf_083e8e9bc8d3row0_col1\" class=\"data row0 col1\" >$3.20</td>\n",
       "                        <td id=\"T_0e3fe446_72dc_11ea_baaf_083e8e9bc8d3row0_col2\" class=\"data row0 col2\" >$361.94</td>\n",
       "                        <td id=\"T_0e3fe446_72dc_11ea_baaf_083e8e9bc8d3row0_col3\" class=\"data row0 col3\" >$0.46</td>\n",
       "            </tr>\n",
       "            <tr>\n",
       "                        <th id=\"T_0e3fe446_72dc_11ea_baaf_083e8e9bc8d3level0_row1\" class=\"row_heading level0 row1\" >Male</th>\n",
       "                        <td id=\"T_0e3fe446_72dc_11ea_baaf_083e8e9bc8d3row1_col0\" class=\"data row1 col0\" >652</td>\n",
       "                        <td id=\"T_0e3fe446_72dc_11ea_baaf_083e8e9bc8d3row1_col1\" class=\"data row1 col1\" >$3.02</td>\n",
       "                        <td id=\"T_0e3fe446_72dc_11ea_baaf_083e8e9bc8d3row1_col2\" class=\"data row1 col2\" >$1,967.64</td>\n",
       "                        <td id=\"T_0e3fe446_72dc_11ea_baaf_083e8e9bc8d3row1_col3\" class=\"data row1 col3\" >$2.52</td>\n",
       "            </tr>\n",
       "            <tr>\n",
       "                        <th id=\"T_0e3fe446_72dc_11ea_baaf_083e8e9bc8d3level0_row2\" class=\"row_heading level0 row2\" >Other / Non-Disclosed</th>\n",
       "                        <td id=\"T_0e3fe446_72dc_11ea_baaf_083e8e9bc8d3row2_col0\" class=\"data row2 col0\" >15</td>\n",
       "                        <td id=\"T_0e3fe446_72dc_11ea_baaf_083e8e9bc8d3row2_col1\" class=\"data row2 col1\" >$3.35</td>\n",
       "                        <td id=\"T_0e3fe446_72dc_11ea_baaf_083e8e9bc8d3row2_col2\" class=\"data row2 col2\" >$50.19</td>\n",
       "                        <td id=\"T_0e3fe446_72dc_11ea_baaf_083e8e9bc8d3row2_col3\" class=\"data row2 col3\" >$0.06</td>\n",
       "            </tr>\n",
       "    </tbody></table>"
      ],
      "text/plain": [
       "<pandas.io.formats.style.Styler at 0x1e9006eeb38>"
      ]
     },
     "execution_count": 8,
     "metadata": {},
     "output_type": "execute_result"
    }
   ],
   "source": [
    "#Groupby gender\n",
    "gender_stats=purchase_data.groupby([\"Gender\"])\n",
    "# Count the total purchases by gender\n",
    "purchase_count = gender_stats[\"Purchase ID\"].count()\n",
    "# Average purchase prices by gender\n",
    "avg_purchase_price = gender_stats[\"Price\"].mean()\n",
    "# Average purchase total by gender\n",
    "avg_purchase_total = gender_stats[\"Price\"].sum()\n",
    "#Average purchase total by gender divivded by purchase count by unique shoppers\n",
    "avg_purchase_per_person = avg_purchase_total/TotalGender\n",
    "# Create data frame with obtained values\n",
    "gender_demographics = pd.DataFrame({\"Purchase Count\": purchase_count,\n",
    "                                    \"Average Purchase Price\": avg_purchase_price,\n",
    "                                    \"Average Purchase Value\":avg_purchase_total,\n",
    "                                    \"Avg Purchase Total per Person\": avg_purchase_per_person})\n",
    "# Provide index in top left as \"Gender\"\n",
    "gender_demographics.index.name = \"Gender\"\n",
    "# Format with currency style\n",
    "gender_demographics.style.format({\"Average Purchase Value\":\"${:,.2f}\",\n",
    "                                  \"Average Purchase Price\":\"${:,.2f}\",\n",
    "                                  \"Avg Purchase Total per Person\":\"${:,.2f}\"})\n"
   ]
  },
  {
   "cell_type": "markdown",
   "metadata": {},
   "source": [
    "## Age Demographics"
   ]
  },
  {
   "cell_type": "markdown",
   "metadata": {},
   "source": [
    "* Establish bins for ages\n",
    "\n",
    "\n",
    "* Categorize the existing players using the age bins. Hint: use pd.cut()\n",
    "\n",
    "\n",
    "* Calculate the numbers and percentages by age group\n",
    "\n",
    "\n",
    "* Create a summary data frame to hold the results\n",
    "\n",
    "\n",
    "* Optional: round the percentage column to two decimal points\n",
    "\n",
    "\n",
    "* Display Age Demographics Table\n"
   ]
  },
  {
   "cell_type": "code",
   "execution_count": 9,
   "metadata": {},
   "outputs": [
    {
     "data": {
      "text/html": [
       "<style  type=\"text/css\" >\n",
       "</style><table id=\"T_2954a34c_72dd_11ea_aae7_083e8e9bc8d3\" ><thead>    <tr>        <th class=\"blank level0\" ></th>        <th class=\"col_heading level0 col0\" >Total Count</th>        <th class=\"col_heading level0 col1\" >Percentage of Players</th>    </tr></thead><tbody>\n",
       "                <tr>\n",
       "                        <th id=\"T_2954a34c_72dd_11ea_aae7_083e8e9bc8d3level0_row0\" class=\"row_heading level0 row0\" ><10</th>\n",
       "                        <td id=\"T_2954a34c_72dd_11ea_aae7_083e8e9bc8d3row0_col0\" class=\"data row0 col0\" >17</td>\n",
       "                        <td id=\"T_2954a34c_72dd_11ea_aae7_083e8e9bc8d3row0_col1\" class=\"data row0 col1\" >2.95</td>\n",
       "            </tr>\n",
       "            <tr>\n",
       "                        <th id=\"T_2954a34c_72dd_11ea_aae7_083e8e9bc8d3level0_row1\" class=\"row_heading level0 row1\" >10-14</th>\n",
       "                        <td id=\"T_2954a34c_72dd_11ea_aae7_083e8e9bc8d3row1_col0\" class=\"data row1 col0\" >22</td>\n",
       "                        <td id=\"T_2954a34c_72dd_11ea_aae7_083e8e9bc8d3row1_col1\" class=\"data row1 col1\" >3.82</td>\n",
       "            </tr>\n",
       "            <tr>\n",
       "                        <th id=\"T_2954a34c_72dd_11ea_aae7_083e8e9bc8d3level0_row2\" class=\"row_heading level0 row2\" >15-19</th>\n",
       "                        <td id=\"T_2954a34c_72dd_11ea_aae7_083e8e9bc8d3row2_col0\" class=\"data row2 col0\" >107</td>\n",
       "                        <td id=\"T_2954a34c_72dd_11ea_aae7_083e8e9bc8d3row2_col1\" class=\"data row2 col1\" >18.58</td>\n",
       "            </tr>\n",
       "            <tr>\n",
       "                        <th id=\"T_2954a34c_72dd_11ea_aae7_083e8e9bc8d3level0_row3\" class=\"row_heading level0 row3\" >20-24</th>\n",
       "                        <td id=\"T_2954a34c_72dd_11ea_aae7_083e8e9bc8d3row3_col0\" class=\"data row3 col0\" >258</td>\n",
       "                        <td id=\"T_2954a34c_72dd_11ea_aae7_083e8e9bc8d3row3_col1\" class=\"data row3 col1\" >44.79</td>\n",
       "            </tr>\n",
       "            <tr>\n",
       "                        <th id=\"T_2954a34c_72dd_11ea_aae7_083e8e9bc8d3level0_row4\" class=\"row_heading level0 row4\" >25-29</th>\n",
       "                        <td id=\"T_2954a34c_72dd_11ea_aae7_083e8e9bc8d3row4_col0\" class=\"data row4 col0\" >77</td>\n",
       "                        <td id=\"T_2954a34c_72dd_11ea_aae7_083e8e9bc8d3row4_col1\" class=\"data row4 col1\" >13.37</td>\n",
       "            </tr>\n",
       "            <tr>\n",
       "                        <th id=\"T_2954a34c_72dd_11ea_aae7_083e8e9bc8d3level0_row5\" class=\"row_heading level0 row5\" >30-34</th>\n",
       "                        <td id=\"T_2954a34c_72dd_11ea_aae7_083e8e9bc8d3row5_col0\" class=\"data row5 col0\" >52</td>\n",
       "                        <td id=\"T_2954a34c_72dd_11ea_aae7_083e8e9bc8d3row5_col1\" class=\"data row5 col1\" >9.03</td>\n",
       "            </tr>\n",
       "            <tr>\n",
       "                        <th id=\"T_2954a34c_72dd_11ea_aae7_083e8e9bc8d3level0_row6\" class=\"row_heading level0 row6\" >35-39</th>\n",
       "                        <td id=\"T_2954a34c_72dd_11ea_aae7_083e8e9bc8d3row6_col0\" class=\"data row6 col0\" >31</td>\n",
       "                        <td id=\"T_2954a34c_72dd_11ea_aae7_083e8e9bc8d3row6_col1\" class=\"data row6 col1\" >5.38</td>\n",
       "            </tr>\n",
       "            <tr>\n",
       "                        <th id=\"T_2954a34c_72dd_11ea_aae7_083e8e9bc8d3level0_row7\" class=\"row_heading level0 row7\" >40+</th>\n",
       "                        <td id=\"T_2954a34c_72dd_11ea_aae7_083e8e9bc8d3row7_col0\" class=\"data row7 col0\" >12</td>\n",
       "                        <td id=\"T_2954a34c_72dd_11ea_aae7_083e8e9bc8d3row7_col1\" class=\"data row7 col1\" >2.08</td>\n",
       "            </tr>\n",
       "    </tbody></table>"
      ],
      "text/plain": [
       "<pandas.io.formats.style.Styler at 0x1e90e1460b8>"
      ]
     },
     "execution_count": 9,
     "metadata": {},
     "output_type": "execute_result"
    }
   ],
   "source": [
    "# Establish bins for ages\n",
    "age_bins = [0, 9.90, 14.90, 19.90, 24.90, 29.90, 34.90, 39.90, 99999]\n",
    "group_names = [\"<10\", \"10-14\", \"15-19\", \"20-24\", \"25-29\", \"30-34\", \"35-39\", \"40+\"]\n",
    "# Segment and sort age values into bins established above\n",
    "purchase_data[\"Age Group\"] = pd.cut(purchase_data[\"Age\"],age_bins, labels=group_names)\n",
    "purchase_data\n",
    "# Create new data frame with the added \"Age Group\" and group it\n",
    "age_grouped = purchase_data.groupby(\"Age Group\")\n",
    "# Count total players by age category\n",
    "total_count_age = age_grouped[\"SN\"].nunique()\n",
    "# Calculate percentages by age category\n",
    "percentage_by_age =(total_count_age/PlayerCount) * 100\n",
    "# Create data frame with obtained values\n",
    "age_demographics = pd.DataFrame({\"Total Count\": total_count_age,\"Percentage of Players\": percentage_by_age})\n",
    "# Format the data frame with no index name in the corner\n",
    "age_demographics.index.name = None\n",
    "# Format percentage with two decimal places\n",
    "age_demographics.style.format({\"Percentage of Players\":\"{:,.2f}\"})"
   ]
  },
  {
   "cell_type": "markdown",
   "metadata": {},
   "source": [
    "## Purchasing Analysis (Age)"
   ]
  },
  {
   "cell_type": "markdown",
   "metadata": {},
   "source": [
    "* Bin the purchase_data data frame by age\n",
    "\n",
    "\n",
    "* Run basic calculations to obtain purchase count, avg. purchase price, avg. purchase total per person etc. in the table below\n",
    "\n",
    "\n",
    "* Create a summary data frame to hold the results\n",
    "\n",
    "\n",
    "* Optional: give the displayed data cleaner formatting\n",
    "\n",
    "\n",
    "* Display the summary data frame"
   ]
  },
  {
   "cell_type": "code",
   "execution_count": 11,
   "metadata": {},
   "outputs": [
    {
     "data": {
      "text/html": [
       "<style  type=\"text/css\" >\n",
       "</style><table id=\"T_83d91768_72dd_11ea_871c_083e8e9bc8d3\" ><thead>    <tr>        <th class=\"blank level0\" ></th>        <th class=\"col_heading level0 col0\" >Total Purchase Value</th>        <th class=\"col_heading level0 col1\" >Average Purchase Total per Person</th>        <th class=\"col_heading level0 col2\" >Purchase Count</th>        <th class=\"col_heading level0 col3\" >Average Purchase Price</th>    </tr></thead><tbody>\n",
       "                <tr>\n",
       "                        <th id=\"T_83d91768_72dd_11ea_871c_083e8e9bc8d3level0_row0\" class=\"row_heading level0 row0\" ><10</th>\n",
       "                        <td id=\"T_83d91768_72dd_11ea_871c_083e8e9bc8d3row0_col0\" class=\"data row0 col0\" >$77.13</td>\n",
       "                        <td id=\"T_83d91768_72dd_11ea_871c_083e8e9bc8d3row0_col1\" class=\"data row0 col1\" >$4.54</td>\n",
       "                        <td id=\"T_83d91768_72dd_11ea_871c_083e8e9bc8d3row0_col2\" class=\"data row0 col2\" >23</td>\n",
       "                        <td id=\"T_83d91768_72dd_11ea_871c_083e8e9bc8d3row0_col3\" class=\"data row0 col3\" >$3.35</td>\n",
       "            </tr>\n",
       "            <tr>\n",
       "                        <th id=\"T_83d91768_72dd_11ea_871c_083e8e9bc8d3level0_row1\" class=\"row_heading level0 row1\" >10-14</th>\n",
       "                        <td id=\"T_83d91768_72dd_11ea_871c_083e8e9bc8d3row1_col0\" class=\"data row1 col0\" >$82.78</td>\n",
       "                        <td id=\"T_83d91768_72dd_11ea_871c_083e8e9bc8d3row1_col1\" class=\"data row1 col1\" >$3.76</td>\n",
       "                        <td id=\"T_83d91768_72dd_11ea_871c_083e8e9bc8d3row1_col2\" class=\"data row1 col2\" >28</td>\n",
       "                        <td id=\"T_83d91768_72dd_11ea_871c_083e8e9bc8d3row1_col3\" class=\"data row1 col3\" >$2.96</td>\n",
       "            </tr>\n",
       "            <tr>\n",
       "                        <th id=\"T_83d91768_72dd_11ea_871c_083e8e9bc8d3level0_row2\" class=\"row_heading level0 row2\" >15-19</th>\n",
       "                        <td id=\"T_83d91768_72dd_11ea_871c_083e8e9bc8d3row2_col0\" class=\"data row2 col0\" >$412.89</td>\n",
       "                        <td id=\"T_83d91768_72dd_11ea_871c_083e8e9bc8d3row2_col1\" class=\"data row2 col1\" >$3.86</td>\n",
       "                        <td id=\"T_83d91768_72dd_11ea_871c_083e8e9bc8d3row2_col2\" class=\"data row2 col2\" >136</td>\n",
       "                        <td id=\"T_83d91768_72dd_11ea_871c_083e8e9bc8d3row2_col3\" class=\"data row2 col3\" >$3.04</td>\n",
       "            </tr>\n",
       "            <tr>\n",
       "                        <th id=\"T_83d91768_72dd_11ea_871c_083e8e9bc8d3level0_row3\" class=\"row_heading level0 row3\" >20-24</th>\n",
       "                        <td id=\"T_83d91768_72dd_11ea_871c_083e8e9bc8d3row3_col0\" class=\"data row3 col0\" >$1,114.06</td>\n",
       "                        <td id=\"T_83d91768_72dd_11ea_871c_083e8e9bc8d3row3_col1\" class=\"data row3 col1\" >$4.32</td>\n",
       "                        <td id=\"T_83d91768_72dd_11ea_871c_083e8e9bc8d3row3_col2\" class=\"data row3 col2\" >365</td>\n",
       "                        <td id=\"T_83d91768_72dd_11ea_871c_083e8e9bc8d3row3_col3\" class=\"data row3 col3\" >$3.05</td>\n",
       "            </tr>\n",
       "            <tr>\n",
       "                        <th id=\"T_83d91768_72dd_11ea_871c_083e8e9bc8d3level0_row4\" class=\"row_heading level0 row4\" >25-29</th>\n",
       "                        <td id=\"T_83d91768_72dd_11ea_871c_083e8e9bc8d3row4_col0\" class=\"data row4 col0\" >$293.00</td>\n",
       "                        <td id=\"T_83d91768_72dd_11ea_871c_083e8e9bc8d3row4_col1\" class=\"data row4 col1\" >$3.81</td>\n",
       "                        <td id=\"T_83d91768_72dd_11ea_871c_083e8e9bc8d3row4_col2\" class=\"data row4 col2\" >101</td>\n",
       "                        <td id=\"T_83d91768_72dd_11ea_871c_083e8e9bc8d3row4_col3\" class=\"data row4 col3\" >$2.90</td>\n",
       "            </tr>\n",
       "            <tr>\n",
       "                        <th id=\"T_83d91768_72dd_11ea_871c_083e8e9bc8d3level0_row5\" class=\"row_heading level0 row5\" >30-34</th>\n",
       "                        <td id=\"T_83d91768_72dd_11ea_871c_083e8e9bc8d3row5_col0\" class=\"data row5 col0\" >$214.00</td>\n",
       "                        <td id=\"T_83d91768_72dd_11ea_871c_083e8e9bc8d3row5_col1\" class=\"data row5 col1\" >$4.12</td>\n",
       "                        <td id=\"T_83d91768_72dd_11ea_871c_083e8e9bc8d3row5_col2\" class=\"data row5 col2\" >73</td>\n",
       "                        <td id=\"T_83d91768_72dd_11ea_871c_083e8e9bc8d3row5_col3\" class=\"data row5 col3\" >$2.93</td>\n",
       "            </tr>\n",
       "            <tr>\n",
       "                        <th id=\"T_83d91768_72dd_11ea_871c_083e8e9bc8d3level0_row6\" class=\"row_heading level0 row6\" >35-39</th>\n",
       "                        <td id=\"T_83d91768_72dd_11ea_871c_083e8e9bc8d3row6_col0\" class=\"data row6 col0\" >$147.67</td>\n",
       "                        <td id=\"T_83d91768_72dd_11ea_871c_083e8e9bc8d3row6_col1\" class=\"data row6 col1\" >$4.76</td>\n",
       "                        <td id=\"T_83d91768_72dd_11ea_871c_083e8e9bc8d3row6_col2\" class=\"data row6 col2\" >41</td>\n",
       "                        <td id=\"T_83d91768_72dd_11ea_871c_083e8e9bc8d3row6_col3\" class=\"data row6 col3\" >$3.60</td>\n",
       "            </tr>\n",
       "            <tr>\n",
       "                        <th id=\"T_83d91768_72dd_11ea_871c_083e8e9bc8d3level0_row7\" class=\"row_heading level0 row7\" >40+</th>\n",
       "                        <td id=\"T_83d91768_72dd_11ea_871c_083e8e9bc8d3row7_col0\" class=\"data row7 col0\" >$38.24</td>\n",
       "                        <td id=\"T_83d91768_72dd_11ea_871c_083e8e9bc8d3row7_col1\" class=\"data row7 col1\" >$3.19</td>\n",
       "                        <td id=\"T_83d91768_72dd_11ea_871c_083e8e9bc8d3row7_col2\" class=\"data row7 col2\" >13</td>\n",
       "                        <td id=\"T_83d91768_72dd_11ea_871c_083e8e9bc8d3row7_col3\" class=\"data row7 col3\" >$2.94</td>\n",
       "            </tr>\n",
       "    </tbody></table>"
      ],
      "text/plain": [
       "<pandas.io.formats.style.Styler at 0x1e90e146f98>"
      ]
     },
     "execution_count": 11,
     "metadata": {},
     "output_type": "execute_result"
    }
   ],
   "source": [
    "# Count purchases by age group\n",
    "purchase_count_age = age_grouped[\"Purchase ID\"].count()\n",
    "# Obtain average purchase price by age group\n",
    "avg_purchase_price_age = age_grouped[\"Price\"].mean()\n",
    "# Calculate total purchase value by age group\n",
    "total_purchase_value = age_grouped[\"Price\"].sum()\n",
    "# Calculate the average purchase per person in the age group\n",
    "avg_purchase_per_person_age = total_purchase_value/total_count_age\n",
    "# Create data frame with obtained values\n",
    "age_demographics = pd.DataFrame({\"Total Purchase Value\":total_purchase_value,\n",
    "                                 \"Average Purchase Total per Person\": avg_purchase_per_person_age,\n",
    "                                 \"Purchase Count\": purchase_count_age,\n",
    "                                 \"Average Purchase Price\": avg_purchase_price_age})\n",
    "# Format the data frame with no index name in the corner\n",
    "age_demographics.index.name = None\n",
    "# Format with currency style\n",
    "age_demographics.style.format({\"Average Purchase Price\":\"${:,.2f}\",\n",
    "                               \"Total Purchase Value\":\"${:,.2f}\",\n",
    "                               \"Average Purchase Total per Person\":\"${:,.2f}\"})"
   ]
  },
  {
   "cell_type": "markdown",
   "metadata": {},
   "source": [
    "## Top Spenders"
   ]
  },
  {
   "cell_type": "markdown",
   "metadata": {},
   "source": [
    "* Run basic calculations to obtain the results in the table below\n",
    "\n",
    "\n",
    "* Create a summary data frame to hold the results\n",
    "\n",
    "\n",
    "* Sort the total purchase value column in descending order\n",
    "\n",
    "\n",
    "* Optional: give the displayed data cleaner formatting\n",
    "\n",
    "\n",
    "* Display a preview of the summary data frame\n",
    "\n"
   ]
  },
  {
   "cell_type": "code",
   "execution_count": 16,
   "metadata": {},
   "outputs": [
    {
     "data": {
      "text/html": [
       "<style  type=\"text/css\" >\n",
       "</style><table id=\"T_12ea30ca_72de_11ea_af66_083e8e9bc8d3\" ><thead>    <tr>        <th class=\"blank level0\" ></th>        <th class=\"col_heading level0 col0\" >Purchase Count</th>        <th class=\"col_heading level0 col1\" >Average Purchase Price</th>        <th class=\"col_heading level0 col2\" >Total Purchase Value</th>    </tr>    <tr>        <th class=\"index_name level0\" >SN</th>        <th class=\"blank\" ></th>        <th class=\"blank\" ></th>        <th class=\"blank\" ></th>    </tr></thead><tbody>\n",
       "                <tr>\n",
       "                        <th id=\"T_12ea30ca_72de_11ea_af66_083e8e9bc8d3level0_row0\" class=\"row_heading level0 row0\" >Lisosia93</th>\n",
       "                        <td id=\"T_12ea30ca_72de_11ea_af66_083e8e9bc8d3row0_col0\" class=\"data row0 col0\" >5</td>\n",
       "                        <td id=\"T_12ea30ca_72de_11ea_af66_083e8e9bc8d3row0_col1\" class=\"data row0 col1\" >$3.79</td>\n",
       "                        <td id=\"T_12ea30ca_72de_11ea_af66_083e8e9bc8d3row0_col2\" class=\"data row0 col2\" >$18.96</td>\n",
       "            </tr>\n",
       "            <tr>\n",
       "                        <th id=\"T_12ea30ca_72de_11ea_af66_083e8e9bc8d3level0_row1\" class=\"row_heading level0 row1\" >Idastidru52</th>\n",
       "                        <td id=\"T_12ea30ca_72de_11ea_af66_083e8e9bc8d3row1_col0\" class=\"data row1 col0\" >4</td>\n",
       "                        <td id=\"T_12ea30ca_72de_11ea_af66_083e8e9bc8d3row1_col1\" class=\"data row1 col1\" >$3.86</td>\n",
       "                        <td id=\"T_12ea30ca_72de_11ea_af66_083e8e9bc8d3row1_col2\" class=\"data row1 col2\" >$15.45</td>\n",
       "            </tr>\n",
       "            <tr>\n",
       "                        <th id=\"T_12ea30ca_72de_11ea_af66_083e8e9bc8d3level0_row2\" class=\"row_heading level0 row2\" >Chamjask73</th>\n",
       "                        <td id=\"T_12ea30ca_72de_11ea_af66_083e8e9bc8d3row2_col0\" class=\"data row2 col0\" >3</td>\n",
       "                        <td id=\"T_12ea30ca_72de_11ea_af66_083e8e9bc8d3row2_col1\" class=\"data row2 col1\" >$4.61</td>\n",
       "                        <td id=\"T_12ea30ca_72de_11ea_af66_083e8e9bc8d3row2_col2\" class=\"data row2 col2\" >$13.83</td>\n",
       "            </tr>\n",
       "            <tr>\n",
       "                        <th id=\"T_12ea30ca_72de_11ea_af66_083e8e9bc8d3level0_row3\" class=\"row_heading level0 row3\" >Iral74</th>\n",
       "                        <td id=\"T_12ea30ca_72de_11ea_af66_083e8e9bc8d3row3_col0\" class=\"data row3 col0\" >4</td>\n",
       "                        <td id=\"T_12ea30ca_72de_11ea_af66_083e8e9bc8d3row3_col1\" class=\"data row3 col1\" >$3.40</td>\n",
       "                        <td id=\"T_12ea30ca_72de_11ea_af66_083e8e9bc8d3row3_col2\" class=\"data row3 col2\" >$13.62</td>\n",
       "            </tr>\n",
       "            <tr>\n",
       "                        <th id=\"T_12ea30ca_72de_11ea_af66_083e8e9bc8d3level0_row4\" class=\"row_heading level0 row4\" >Iskadarya95</th>\n",
       "                        <td id=\"T_12ea30ca_72de_11ea_af66_083e8e9bc8d3row4_col0\" class=\"data row4 col0\" >3</td>\n",
       "                        <td id=\"T_12ea30ca_72de_11ea_af66_083e8e9bc8d3row4_col1\" class=\"data row4 col1\" >$4.37</td>\n",
       "                        <td id=\"T_12ea30ca_72de_11ea_af66_083e8e9bc8d3row4_col2\" class=\"data row4 col2\" >$13.10</td>\n",
       "            </tr>\n",
       "            <tr>\n",
       "                        <th id=\"T_12ea30ca_72de_11ea_af66_083e8e9bc8d3level0_row5\" class=\"row_heading level0 row5\" >Ilarin91</th>\n",
       "                        <td id=\"T_12ea30ca_72de_11ea_af66_083e8e9bc8d3row5_col0\" class=\"data row5 col0\" >3</td>\n",
       "                        <td id=\"T_12ea30ca_72de_11ea_af66_083e8e9bc8d3row5_col1\" class=\"data row5 col1\" >$4.23</td>\n",
       "                        <td id=\"T_12ea30ca_72de_11ea_af66_083e8e9bc8d3row5_col2\" class=\"data row5 col2\" >$12.70</td>\n",
       "            </tr>\n",
       "            <tr>\n",
       "                        <th id=\"T_12ea30ca_72de_11ea_af66_083e8e9bc8d3level0_row6\" class=\"row_heading level0 row6\" >Ialallo29</th>\n",
       "                        <td id=\"T_12ea30ca_72de_11ea_af66_083e8e9bc8d3row6_col0\" class=\"data row6 col0\" >3</td>\n",
       "                        <td id=\"T_12ea30ca_72de_11ea_af66_083e8e9bc8d3row6_col1\" class=\"data row6 col1\" >$3.95</td>\n",
       "                        <td id=\"T_12ea30ca_72de_11ea_af66_083e8e9bc8d3row6_col2\" class=\"data row6 col2\" >$11.84</td>\n",
       "            </tr>\n",
       "            <tr>\n",
       "                        <th id=\"T_12ea30ca_72de_11ea_af66_083e8e9bc8d3level0_row7\" class=\"row_heading level0 row7\" >Tyidaim51</th>\n",
       "                        <td id=\"T_12ea30ca_72de_11ea_af66_083e8e9bc8d3row7_col0\" class=\"data row7 col0\" >3</td>\n",
       "                        <td id=\"T_12ea30ca_72de_11ea_af66_083e8e9bc8d3row7_col1\" class=\"data row7 col1\" >$3.94</td>\n",
       "                        <td id=\"T_12ea30ca_72de_11ea_af66_083e8e9bc8d3row7_col2\" class=\"data row7 col2\" >$11.83</td>\n",
       "            </tr>\n",
       "            <tr>\n",
       "                        <th id=\"T_12ea30ca_72de_11ea_af66_083e8e9bc8d3level0_row8\" class=\"row_heading level0 row8\" >Lassilsala30</th>\n",
       "                        <td id=\"T_12ea30ca_72de_11ea_af66_083e8e9bc8d3row8_col0\" class=\"data row8 col0\" >3</td>\n",
       "                        <td id=\"T_12ea30ca_72de_11ea_af66_083e8e9bc8d3row8_col1\" class=\"data row8 col1\" >$3.84</td>\n",
       "                        <td id=\"T_12ea30ca_72de_11ea_af66_083e8e9bc8d3row8_col2\" class=\"data row8 col2\" >$11.51</td>\n",
       "            </tr>\n",
       "            <tr>\n",
       "                        <th id=\"T_12ea30ca_72de_11ea_af66_083e8e9bc8d3level0_row9\" class=\"row_heading level0 row9\" >Chadolyla44</th>\n",
       "                        <td id=\"T_12ea30ca_72de_11ea_af66_083e8e9bc8d3row9_col0\" class=\"data row9 col0\" >3</td>\n",
       "                        <td id=\"T_12ea30ca_72de_11ea_af66_083e8e9bc8d3row9_col1\" class=\"data row9 col1\" >$3.82</td>\n",
       "                        <td id=\"T_12ea30ca_72de_11ea_af66_083e8e9bc8d3row9_col2\" class=\"data row9 col2\" >$11.46</td>\n",
       "            </tr>\n",
       "    </tbody></table>"
      ],
      "text/plain": [
       "<pandas.io.formats.style.Styler at 0x1e90e148358>"
      ]
     },
     "execution_count": 16,
     "metadata": {},
     "output_type": "execute_result"
    }
   ],
   "source": [
    "# Group purchase data by screen names\n",
    "spender_stats = purchase_data.groupby(\"SN\")\n",
    "# Count the total purchases by name\n",
    "purchase_count_spender = spender_stats[\"Purchase ID\"].count()\n",
    "# Calculate the average purchase by name\n",
    "avg_purchase_price_spender = spender_stats[\"Price\"].mean()\n",
    "# Calculate purchase total\n",
    "purchase_total_spender = spender_stats[\"Price\"].sum()\n",
    "# Create data frame with obtained values\n",
    "top_spenders = pd.DataFrame({\"Purchase Count\": purchase_count_spender,\n",
    "                             \"Average Purchase Price\": avg_purchase_price_spender,\n",
    "                             \"Total Purchase Value\":purchase_total_spender})\n",
    "# Sort in descending order to obtain top 5 spender names\n",
    "formatted_spenders = top_spenders.sort_values([\"Total Purchase Value\"], ascending=False).head(10)\n",
    "# Format with currency style\n",
    "formatted_spenders.style.format({\"Average Purchase Price\":\"${:,.2f}\",\n",
    "                                 \"Total Purchase Value\":\"${:,.2f}\"})"
   ]
  },
  {
   "cell_type": "markdown",
   "metadata": {},
   "source": [
    "## Most Popular Items"
   ]
  },
  {
   "cell_type": "markdown",
   "metadata": {},
   "source": [
    "* Retrieve the Item ID, Item Name, and Item Price columns\n",
    "\n",
    "\n",
    "* Group by Item ID and Item Name. Perform calculations to obtain purchase count, item price, and total purchase value\n",
    "\n",
    "\n",
    "* Create a summary data frame to hold the results\n",
    "\n",
    "\n",
    "* Sort the purchase count column in descending order\n",
    "\n",
    "\n",
    "* Optional: give the displayed data cleaner formatting\n",
    "\n",
    "\n",
    "* Display a preview of the summary data frame\n",
    "\n"
   ]
  },
  {
   "cell_type": "code",
   "execution_count": 17,
   "metadata": {},
   "outputs": [
    {
     "data": {
      "text/html": [
       "<style  type=\"text/css\" >\n",
       "</style><table id=\"T_49d59962_72de_11ea_84b7_083e8e9bc8d3\" ><thead>    <tr>        <th class=\"blank\" ></th>        <th class=\"blank level0\" ></th>        <th class=\"col_heading level0 col0\" >Purchase Count</th>        <th class=\"col_heading level0 col1\" >Item Price</th>        <th class=\"col_heading level0 col2\" >Total Purchase Value</th>    </tr>    <tr>        <th class=\"index_name level0\" >Item ID</th>        <th class=\"index_name level1\" >Item Name</th>        <th class=\"blank\" ></th>        <th class=\"blank\" ></th>        <th class=\"blank\" ></th>    </tr></thead><tbody>\n",
       "                <tr>\n",
       "                        <th id=\"T_49d59962_72de_11ea_84b7_083e8e9bc8d3level0_row0\" class=\"row_heading level0 row0\" >178</th>\n",
       "                        <th id=\"T_49d59962_72de_11ea_84b7_083e8e9bc8d3level1_row0\" class=\"row_heading level1 row0\" >Oathbreaker, Last Hope of the Breaking Storm</th>\n",
       "                        <td id=\"T_49d59962_72de_11ea_84b7_083e8e9bc8d3row0_col0\" class=\"data row0 col0\" >12</td>\n",
       "                        <td id=\"T_49d59962_72de_11ea_84b7_083e8e9bc8d3row0_col1\" class=\"data row0 col1\" >$4.23</td>\n",
       "                        <td id=\"T_49d59962_72de_11ea_84b7_083e8e9bc8d3row0_col2\" class=\"data row0 col2\" >$50.76</td>\n",
       "            </tr>\n",
       "            <tr>\n",
       "                        <th id=\"T_49d59962_72de_11ea_84b7_083e8e9bc8d3level0_row1\" class=\"row_heading level0 row1\" >145</th>\n",
       "                        <th id=\"T_49d59962_72de_11ea_84b7_083e8e9bc8d3level1_row1\" class=\"row_heading level1 row1\" >Fiery Glass Crusader</th>\n",
       "                        <td id=\"T_49d59962_72de_11ea_84b7_083e8e9bc8d3row1_col0\" class=\"data row1 col0\" >9</td>\n",
       "                        <td id=\"T_49d59962_72de_11ea_84b7_083e8e9bc8d3row1_col1\" class=\"data row1 col1\" >$4.58</td>\n",
       "                        <td id=\"T_49d59962_72de_11ea_84b7_083e8e9bc8d3row1_col2\" class=\"data row1 col2\" >$41.22</td>\n",
       "            </tr>\n",
       "            <tr>\n",
       "                        <th id=\"T_49d59962_72de_11ea_84b7_083e8e9bc8d3level0_row2\" class=\"row_heading level0 row2\" >108</th>\n",
       "                        <th id=\"T_49d59962_72de_11ea_84b7_083e8e9bc8d3level1_row2\" class=\"row_heading level1 row2\" >Extraction, Quickblade Of Trembling Hands</th>\n",
       "                        <td id=\"T_49d59962_72de_11ea_84b7_083e8e9bc8d3row2_col0\" class=\"data row2 col0\" >9</td>\n",
       "                        <td id=\"T_49d59962_72de_11ea_84b7_083e8e9bc8d3row2_col1\" class=\"data row2 col1\" >$3.53</td>\n",
       "                        <td id=\"T_49d59962_72de_11ea_84b7_083e8e9bc8d3row2_col2\" class=\"data row2 col2\" >$31.77</td>\n",
       "            </tr>\n",
       "            <tr>\n",
       "                        <th id=\"T_49d59962_72de_11ea_84b7_083e8e9bc8d3level0_row3\" class=\"row_heading level0 row3\" >82</th>\n",
       "                        <th id=\"T_49d59962_72de_11ea_84b7_083e8e9bc8d3level1_row3\" class=\"row_heading level1 row3\" >Nirvana</th>\n",
       "                        <td id=\"T_49d59962_72de_11ea_84b7_083e8e9bc8d3row3_col0\" class=\"data row3 col0\" >9</td>\n",
       "                        <td id=\"T_49d59962_72de_11ea_84b7_083e8e9bc8d3row3_col1\" class=\"data row3 col1\" >$4.90</td>\n",
       "                        <td id=\"T_49d59962_72de_11ea_84b7_083e8e9bc8d3row3_col2\" class=\"data row3 col2\" >$44.10</td>\n",
       "            </tr>\n",
       "            <tr>\n",
       "                        <th id=\"T_49d59962_72de_11ea_84b7_083e8e9bc8d3level0_row4\" class=\"row_heading level0 row4\" >19</th>\n",
       "                        <th id=\"T_49d59962_72de_11ea_84b7_083e8e9bc8d3level1_row4\" class=\"row_heading level1 row4\" >Pursuit, Cudgel of Necromancy</th>\n",
       "                        <td id=\"T_49d59962_72de_11ea_84b7_083e8e9bc8d3row4_col0\" class=\"data row4 col0\" >8</td>\n",
       "                        <td id=\"T_49d59962_72de_11ea_84b7_083e8e9bc8d3row4_col1\" class=\"data row4 col1\" >$1.02</td>\n",
       "                        <td id=\"T_49d59962_72de_11ea_84b7_083e8e9bc8d3row4_col2\" class=\"data row4 col2\" >$8.16</td>\n",
       "            </tr>\n",
       "            <tr>\n",
       "                        <th id=\"T_49d59962_72de_11ea_84b7_083e8e9bc8d3level0_row5\" class=\"row_heading level0 row5\" >103</th>\n",
       "                        <th id=\"T_49d59962_72de_11ea_84b7_083e8e9bc8d3level1_row5\" class=\"row_heading level1 row5\" >Singed Scalpel</th>\n",
       "                        <td id=\"T_49d59962_72de_11ea_84b7_083e8e9bc8d3row5_col0\" class=\"data row5 col0\" >8</td>\n",
       "                        <td id=\"T_49d59962_72de_11ea_84b7_083e8e9bc8d3row5_col1\" class=\"data row5 col1\" >$4.35</td>\n",
       "                        <td id=\"T_49d59962_72de_11ea_84b7_083e8e9bc8d3row5_col2\" class=\"data row5 col2\" >$34.80</td>\n",
       "            </tr>\n",
       "            <tr>\n",
       "                        <th id=\"T_49d59962_72de_11ea_84b7_083e8e9bc8d3level0_row6\" class=\"row_heading level0 row6\" >75</th>\n",
       "                        <th id=\"T_49d59962_72de_11ea_84b7_083e8e9bc8d3level1_row6\" class=\"row_heading level1 row6\" >Brutality Ivory Warmace</th>\n",
       "                        <td id=\"T_49d59962_72de_11ea_84b7_083e8e9bc8d3row6_col0\" class=\"data row6 col0\" >8</td>\n",
       "                        <td id=\"T_49d59962_72de_11ea_84b7_083e8e9bc8d3row6_col1\" class=\"data row6 col1\" >$2.42</td>\n",
       "                        <td id=\"T_49d59962_72de_11ea_84b7_083e8e9bc8d3row6_col2\" class=\"data row6 col2\" >$19.36</td>\n",
       "            </tr>\n",
       "            <tr>\n",
       "                        <th id=\"T_49d59962_72de_11ea_84b7_083e8e9bc8d3level0_row7\" class=\"row_heading level0 row7\" >72</th>\n",
       "                        <th id=\"T_49d59962_72de_11ea_84b7_083e8e9bc8d3level1_row7\" class=\"row_heading level1 row7\" >Winter's Bite</th>\n",
       "                        <td id=\"T_49d59962_72de_11ea_84b7_083e8e9bc8d3row7_col0\" class=\"data row7 col0\" >8</td>\n",
       "                        <td id=\"T_49d59962_72de_11ea_84b7_083e8e9bc8d3row7_col1\" class=\"data row7 col1\" >$3.77</td>\n",
       "                        <td id=\"T_49d59962_72de_11ea_84b7_083e8e9bc8d3row7_col2\" class=\"data row7 col2\" >$30.16</td>\n",
       "            </tr>\n",
       "            <tr>\n",
       "                        <th id=\"T_49d59962_72de_11ea_84b7_083e8e9bc8d3level0_row8\" class=\"row_heading level0 row8\" >60</th>\n",
       "                        <th id=\"T_49d59962_72de_11ea_84b7_083e8e9bc8d3level1_row8\" class=\"row_heading level1 row8\" >Wolf</th>\n",
       "                        <td id=\"T_49d59962_72de_11ea_84b7_083e8e9bc8d3row8_col0\" class=\"data row8 col0\" >8</td>\n",
       "                        <td id=\"T_49d59962_72de_11ea_84b7_083e8e9bc8d3row8_col1\" class=\"data row8 col1\" >$3.54</td>\n",
       "                        <td id=\"T_49d59962_72de_11ea_84b7_083e8e9bc8d3row8_col2\" class=\"data row8 col2\" >$28.32</td>\n",
       "            </tr>\n",
       "            <tr>\n",
       "                        <th id=\"T_49d59962_72de_11ea_84b7_083e8e9bc8d3level0_row9\" class=\"row_heading level0 row9\" >59</th>\n",
       "                        <th id=\"T_49d59962_72de_11ea_84b7_083e8e9bc8d3level1_row9\" class=\"row_heading level1 row9\" >Lightning, Etcher of the King</th>\n",
       "                        <td id=\"T_49d59962_72de_11ea_84b7_083e8e9bc8d3row9_col0\" class=\"data row9 col0\" >8</td>\n",
       "                        <td id=\"T_49d59962_72de_11ea_84b7_083e8e9bc8d3row9_col1\" class=\"data row9 col1\" >$4.23</td>\n",
       "                        <td id=\"T_49d59962_72de_11ea_84b7_083e8e9bc8d3row9_col2\" class=\"data row9 col2\" >$33.84</td>\n",
       "            </tr>\n",
       "    </tbody></table>"
      ],
      "text/plain": [
       "<pandas.io.formats.style.Styler at 0x1e90d6d3828>"
      ]
     },
     "execution_count": 17,
     "metadata": {},
     "output_type": "execute_result"
    }
   ],
   "source": [
    "# Create new data frame with items related information\n",
    "items = purchase_data[[\"Item ID\", \"Item Name\", \"Price\"]]\n",
    "# Group the item data by item id and item name\n",
    "item_stats = items.groupby([\"Item ID\",\"Item Name\"])\n",
    "# Count the number of times an item has been purchased\n",
    "purchase_count_item = item_stats[\"Price\"].count()\n",
    "# Calcualte the purchase value per item\n",
    "purchase_value = (item_stats[\"Price\"].sum())\n",
    "# Find individual item price\n",
    "item_price = purchase_value/purchase_count_item\n",
    "# Create data frame with obtained values\n",
    "most_popular_items = pd.DataFrame({\"Purchase Count\": purchase_count_item,\n",
    "                                   \"Item Price\": item_price,\n",
    "                                   \"Total Purchase Value\":purchase_value})\n",
    "# Sort in descending order to obtain top spender names and provide top 5 item names\n",
    "popular_formatted = most_popular_items.sort_values([\"Purchase Count\"], ascending=False).head(10)\n",
    "# Format with currency style\n",
    "popular_formatted.style.format({\"Item Price\":\"${:,.2f}\",\n",
    "                                \"Total Purchase Value\":\"${:,.2f}\"})"
   ]
  },
  {
   "cell_type": "markdown",
   "metadata": {},
   "source": [
    "## Most Profitable Items"
   ]
  },
  {
   "cell_type": "markdown",
   "metadata": {},
   "source": [
    "* Sort the above table by total purchase value in descending order\n",
    "\n",
    "\n",
    "* Optional: give the displayed data cleaner formatting\n",
    "\n",
    "\n",
    "* Display a preview of the data frame\n",
    "\n"
   ]
  },
  {
   "cell_type": "code",
   "execution_count": 18,
   "metadata": {
    "scrolled": true
   },
   "outputs": [
    {
     "data": {
      "text/html": [
       "<style  type=\"text/css\" >\n",
       "</style><table id=\"T_89a2e3be_72de_11ea_9c26_083e8e9bc8d3\" ><thead>    <tr>        <th class=\"blank\" ></th>        <th class=\"blank level0\" ></th>        <th class=\"col_heading level0 col0\" >Purchase Count</th>        <th class=\"col_heading level0 col1\" >Item Price</th>        <th class=\"col_heading level0 col2\" >Total Purchase Value</th>    </tr>    <tr>        <th class=\"index_name level0\" >Item ID</th>        <th class=\"index_name level1\" >Item Name</th>        <th class=\"blank\" ></th>        <th class=\"blank\" ></th>        <th class=\"blank\" ></th>    </tr></thead><tbody>\n",
       "                <tr>\n",
       "                        <th id=\"T_89a2e3be_72de_11ea_9c26_083e8e9bc8d3level0_row0\" class=\"row_heading level0 row0\" >178</th>\n",
       "                        <th id=\"T_89a2e3be_72de_11ea_9c26_083e8e9bc8d3level1_row0\" class=\"row_heading level1 row0\" >Oathbreaker, Last Hope of the Breaking Storm</th>\n",
       "                        <td id=\"T_89a2e3be_72de_11ea_9c26_083e8e9bc8d3row0_col0\" class=\"data row0 col0\" >12</td>\n",
       "                        <td id=\"T_89a2e3be_72de_11ea_9c26_083e8e9bc8d3row0_col1\" class=\"data row0 col1\" >$4.23</td>\n",
       "                        <td id=\"T_89a2e3be_72de_11ea_9c26_083e8e9bc8d3row0_col2\" class=\"data row0 col2\" >$50.76</td>\n",
       "            </tr>\n",
       "            <tr>\n",
       "                        <th id=\"T_89a2e3be_72de_11ea_9c26_083e8e9bc8d3level0_row1\" class=\"row_heading level0 row1\" >82</th>\n",
       "                        <th id=\"T_89a2e3be_72de_11ea_9c26_083e8e9bc8d3level1_row1\" class=\"row_heading level1 row1\" >Nirvana</th>\n",
       "                        <td id=\"T_89a2e3be_72de_11ea_9c26_083e8e9bc8d3row1_col0\" class=\"data row1 col0\" >9</td>\n",
       "                        <td id=\"T_89a2e3be_72de_11ea_9c26_083e8e9bc8d3row1_col1\" class=\"data row1 col1\" >$4.90</td>\n",
       "                        <td id=\"T_89a2e3be_72de_11ea_9c26_083e8e9bc8d3row1_col2\" class=\"data row1 col2\" >$44.10</td>\n",
       "            </tr>\n",
       "            <tr>\n",
       "                        <th id=\"T_89a2e3be_72de_11ea_9c26_083e8e9bc8d3level0_row2\" class=\"row_heading level0 row2\" >145</th>\n",
       "                        <th id=\"T_89a2e3be_72de_11ea_9c26_083e8e9bc8d3level1_row2\" class=\"row_heading level1 row2\" >Fiery Glass Crusader</th>\n",
       "                        <td id=\"T_89a2e3be_72de_11ea_9c26_083e8e9bc8d3row2_col0\" class=\"data row2 col0\" >9</td>\n",
       "                        <td id=\"T_89a2e3be_72de_11ea_9c26_083e8e9bc8d3row2_col1\" class=\"data row2 col1\" >$4.58</td>\n",
       "                        <td id=\"T_89a2e3be_72de_11ea_9c26_083e8e9bc8d3row2_col2\" class=\"data row2 col2\" >$41.22</td>\n",
       "            </tr>\n",
       "            <tr>\n",
       "                        <th id=\"T_89a2e3be_72de_11ea_9c26_083e8e9bc8d3level0_row3\" class=\"row_heading level0 row3\" >92</th>\n",
       "                        <th id=\"T_89a2e3be_72de_11ea_9c26_083e8e9bc8d3level1_row3\" class=\"row_heading level1 row3\" >Final Critic</th>\n",
       "                        <td id=\"T_89a2e3be_72de_11ea_9c26_083e8e9bc8d3row3_col0\" class=\"data row3 col0\" >8</td>\n",
       "                        <td id=\"T_89a2e3be_72de_11ea_9c26_083e8e9bc8d3row3_col1\" class=\"data row3 col1\" >$4.88</td>\n",
       "                        <td id=\"T_89a2e3be_72de_11ea_9c26_083e8e9bc8d3row3_col2\" class=\"data row3 col2\" >$39.04</td>\n",
       "            </tr>\n",
       "            <tr>\n",
       "                        <th id=\"T_89a2e3be_72de_11ea_9c26_083e8e9bc8d3level0_row4\" class=\"row_heading level0 row4\" >103</th>\n",
       "                        <th id=\"T_89a2e3be_72de_11ea_9c26_083e8e9bc8d3level1_row4\" class=\"row_heading level1 row4\" >Singed Scalpel</th>\n",
       "                        <td id=\"T_89a2e3be_72de_11ea_9c26_083e8e9bc8d3row4_col0\" class=\"data row4 col0\" >8</td>\n",
       "                        <td id=\"T_89a2e3be_72de_11ea_9c26_083e8e9bc8d3row4_col1\" class=\"data row4 col1\" >$4.35</td>\n",
       "                        <td id=\"T_89a2e3be_72de_11ea_9c26_083e8e9bc8d3row4_col2\" class=\"data row4 col2\" >$34.80</td>\n",
       "            </tr>\n",
       "            <tr>\n",
       "                        <th id=\"T_89a2e3be_72de_11ea_9c26_083e8e9bc8d3level0_row5\" class=\"row_heading level0 row5\" >59</th>\n",
       "                        <th id=\"T_89a2e3be_72de_11ea_9c26_083e8e9bc8d3level1_row5\" class=\"row_heading level1 row5\" >Lightning, Etcher of the King</th>\n",
       "                        <td id=\"T_89a2e3be_72de_11ea_9c26_083e8e9bc8d3row5_col0\" class=\"data row5 col0\" >8</td>\n",
       "                        <td id=\"T_89a2e3be_72de_11ea_9c26_083e8e9bc8d3row5_col1\" class=\"data row5 col1\" >$4.23</td>\n",
       "                        <td id=\"T_89a2e3be_72de_11ea_9c26_083e8e9bc8d3row5_col2\" class=\"data row5 col2\" >$33.84</td>\n",
       "            </tr>\n",
       "            <tr>\n",
       "                        <th id=\"T_89a2e3be_72de_11ea_9c26_083e8e9bc8d3level0_row6\" class=\"row_heading level0 row6\" >108</th>\n",
       "                        <th id=\"T_89a2e3be_72de_11ea_9c26_083e8e9bc8d3level1_row6\" class=\"row_heading level1 row6\" >Extraction, Quickblade Of Trembling Hands</th>\n",
       "                        <td id=\"T_89a2e3be_72de_11ea_9c26_083e8e9bc8d3row6_col0\" class=\"data row6 col0\" >9</td>\n",
       "                        <td id=\"T_89a2e3be_72de_11ea_9c26_083e8e9bc8d3row6_col1\" class=\"data row6 col1\" >$3.53</td>\n",
       "                        <td id=\"T_89a2e3be_72de_11ea_9c26_083e8e9bc8d3row6_col2\" class=\"data row6 col2\" >$31.77</td>\n",
       "            </tr>\n",
       "            <tr>\n",
       "                        <th id=\"T_89a2e3be_72de_11ea_9c26_083e8e9bc8d3level0_row7\" class=\"row_heading level0 row7\" >78</th>\n",
       "                        <th id=\"T_89a2e3be_72de_11ea_9c26_083e8e9bc8d3level1_row7\" class=\"row_heading level1 row7\" >Glimmer, Ender of the Moon</th>\n",
       "                        <td id=\"T_89a2e3be_72de_11ea_9c26_083e8e9bc8d3row7_col0\" class=\"data row7 col0\" >7</td>\n",
       "                        <td id=\"T_89a2e3be_72de_11ea_9c26_083e8e9bc8d3row7_col1\" class=\"data row7 col1\" >$4.40</td>\n",
       "                        <td id=\"T_89a2e3be_72de_11ea_9c26_083e8e9bc8d3row7_col2\" class=\"data row7 col2\" >$30.80</td>\n",
       "            </tr>\n",
       "            <tr>\n",
       "                        <th id=\"T_89a2e3be_72de_11ea_9c26_083e8e9bc8d3level0_row8\" class=\"row_heading level0 row8\" >72</th>\n",
       "                        <th id=\"T_89a2e3be_72de_11ea_9c26_083e8e9bc8d3level1_row8\" class=\"row_heading level1 row8\" >Winter's Bite</th>\n",
       "                        <td id=\"T_89a2e3be_72de_11ea_9c26_083e8e9bc8d3row8_col0\" class=\"data row8 col0\" >8</td>\n",
       "                        <td id=\"T_89a2e3be_72de_11ea_9c26_083e8e9bc8d3row8_col1\" class=\"data row8 col1\" >$3.77</td>\n",
       "                        <td id=\"T_89a2e3be_72de_11ea_9c26_083e8e9bc8d3row8_col2\" class=\"data row8 col2\" >$30.16</td>\n",
       "            </tr>\n",
       "            <tr>\n",
       "                        <th id=\"T_89a2e3be_72de_11ea_9c26_083e8e9bc8d3level0_row9\" class=\"row_heading level0 row9\" >60</th>\n",
       "                        <th id=\"T_89a2e3be_72de_11ea_9c26_083e8e9bc8d3level1_row9\" class=\"row_heading level1 row9\" >Wolf</th>\n",
       "                        <td id=\"T_89a2e3be_72de_11ea_9c26_083e8e9bc8d3row9_col0\" class=\"data row9 col0\" >8</td>\n",
       "                        <td id=\"T_89a2e3be_72de_11ea_9c26_083e8e9bc8d3row9_col1\" class=\"data row9 col1\" >$3.54</td>\n",
       "                        <td id=\"T_89a2e3be_72de_11ea_9c26_083e8e9bc8d3row9_col2\" class=\"data row9 col2\" >$28.32</td>\n",
       "            </tr>\n",
       "    </tbody></table>"
      ],
      "text/plain": [
       "<pandas.io.formats.style.Styler at 0x1e90e1c5860>"
      ]
     },
     "execution_count": 18,
     "metadata": {},
     "output_type": "execute_result"
    }
   ],
   "source": [
    "popular_formatted = most_popular_items.sort_values([\"Total Purchase Value\"],\n",
    "                                                   ascending=False).head(10)\n",
    "\n",
    "popular_formatted.style.format({\"Item Price\":\"${:,.2f}\",\n",
    "                                \"Total Purchase Value\":\"${:,.2f}\"})"
   ]
  },
  {
   "cell_type": "code",
   "execution_count": null,
   "metadata": {},
   "outputs": [],
   "source": []
  }
 ],
 "metadata": {
  "anaconda-cloud": {},
  "kernel_info": {
   "name": "python3"
  },
  "kernelspec": {
   "display_name": "Python 3",
   "language": "python",
   "name": "python3"
  },
  "language_info": {
   "codemirror_mode": {
    "name": "ipython",
    "version": 3
   },
   "file_extension": ".py",
   "mimetype": "text/x-python",
   "name": "python",
   "nbconvert_exporter": "python",
   "pygments_lexer": "ipython3",
   "version": "3.7.3"
  },
  "latex_envs": {
   "LaTeX_envs_menu_present": true,
   "autoclose": false,
   "autocomplete": true,
   "bibliofile": "biblio.bib",
   "cite_by": "apalike",
   "current_citInitial": 1,
   "eqLabelWithNumbers": true,
   "eqNumInitial": 1,
   "hotkeys": {
    "equation": "Ctrl-E",
    "itemize": "Ctrl-I"
   },
   "labels_anchors": false,
   "latex_user_defs": false,
   "report_style_numbering": false,
   "user_envs_cfg": false
  },
  "nteract": {
   "version": "0.2.0"
  }
 },
 "nbformat": 4,
 "nbformat_minor": 2
}
